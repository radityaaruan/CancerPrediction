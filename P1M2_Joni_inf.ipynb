{
 "cells": [
  {
   "cell_type": "markdown",
   "metadata": {},
   "source": [
    "# BAB X. Model Inference"
   ]
  },
  {
   "cell_type": "markdown",
   "metadata": {},
   "source": [
    "## a. Import Libraries"
   ]
  },
  {
   "cell_type": "code",
   "execution_count": 1,
   "metadata": {},
   "outputs": [],
   "source": [
    "import numpy as np\n",
    "import pandas as pd\n",
    "import pickle"
   ]
  },
  {
   "cell_type": "markdown",
   "metadata": {},
   "source": [
    "## b. Model Inference"
   ]
  },
  {
   "cell_type": "code",
   "execution_count": 2,
   "metadata": {},
   "outputs": [],
   "source": [
    "with open('model.pkl', 'rb') as file_1:\n",
    "  model=pickle.load(file_1)"
   ]
  },
  {
   "cell_type": "markdown",
   "metadata": {},
   "source": [
    "**<u>Insight: </u>**\n",
    "\n",
    "Membuka dan memuat objek dari file berformat .pkl (pickle), yang selanjutnya akan di uji modelnya"
   ]
  },
  {
   "cell_type": "code",
   "execution_count": 3,
   "metadata": {},
   "outputs": [],
   "source": [
    "data_Inf = {\n",
    "    'Age': [47, 67, 60, 55, 50],\n",
    "    'Race': ['White', 'Other', 'Black', 'White', 'Black'],\n",
    "    'Marital Status': ['Married', 'Divorced', 'Single ', 'Widowed', 'Separated'],\n",
    "    'T Stage': ['T3', 'T2', 'T4', 'T1', 'T3'],\n",
    "    'N Stage': ['N1', 'N3', 'N2', 'N1', 'N2'],\n",
    "    '6th Stage': ['IIIA', 'IIIC', 'IIB', 'IIA', 'IIIB'],\n",
    "    'differentiate': ['Poorly differentiated', 'Moderately differentiated', 'Well differentiated', 'Undifferentiated', 'Poorly differentiated'],\n",
    "    'Grade': ['3', '2', '1', 'anaplastic; Grade IV', '2'],\n",
    "    'A Stage': ['Regional', 'Distant', 'Regional', 'Distant', 'Regional'],\n",
    "    'Tumor Size': [51, 50, 35, 40, 18],\n",
    "    'Estrogen Status': ['Positive', 'Negative', 'Positive', 'Negative', 'Positive'],\n",
    "    'Progesterone Status': ['Negative', 'Positive', 'Negative', 'Positive', 'Negative'],\n",
    "    'Regional Node Examined': [17, 12, 37, 8, 15],\n",
    "    'Reginol Node Positive': [1, 10, 7, 2, 12],\n",
    "    'Survival Months': [78, 10, 71, 54, 82]\n",
    "    }"
   ]
  },
  {
   "cell_type": "markdown",
   "metadata": {},
   "source": [
    "**<u>Insight: </u>**\n",
    "\n",
    "Mmbuat dictionary yang berisi data pasien dengan berbagai variabel terkait kondisi medis. Setiap kunci dalam dictionary berfungsi sebagai kolom data, sementara nilai-nilainya adalah daftar yang mewakili baris dalam data. Dictionary tersebut untuk mengetes prediksi model yang sudah dibuat"
   ]
  },
  {
   "cell_type": "code",
   "execution_count": 4,
   "metadata": {},
   "outputs": [
    {
     "data": {
      "text/html": [
       "<div>\n",
       "<style scoped>\n",
       "    .dataframe tbody tr th:only-of-type {\n",
       "        vertical-align: middle;\n",
       "    }\n",
       "\n",
       "    .dataframe tbody tr th {\n",
       "        vertical-align: top;\n",
       "    }\n",
       "\n",
       "    .dataframe thead th {\n",
       "        text-align: right;\n",
       "    }\n",
       "</style>\n",
       "<table border=\"1\" class=\"dataframe\">\n",
       "  <thead>\n",
       "    <tr style=\"text-align: right;\">\n",
       "      <th></th>\n",
       "      <th>Age</th>\n",
       "      <th>Race</th>\n",
       "      <th>Marital Status</th>\n",
       "      <th>T Stage</th>\n",
       "      <th>N Stage</th>\n",
       "      <th>6th Stage</th>\n",
       "      <th>differentiate</th>\n",
       "      <th>Grade</th>\n",
       "      <th>A Stage</th>\n",
       "      <th>Tumor Size</th>\n",
       "      <th>Estrogen Status</th>\n",
       "      <th>Progesterone Status</th>\n",
       "      <th>Regional Node Examined</th>\n",
       "      <th>Reginol Node Positive</th>\n",
       "      <th>Survival Months</th>\n",
       "    </tr>\n",
       "  </thead>\n",
       "  <tbody>\n",
       "    <tr>\n",
       "      <th>0</th>\n",
       "      <td>47</td>\n",
       "      <td>White</td>\n",
       "      <td>Married</td>\n",
       "      <td>T3</td>\n",
       "      <td>N1</td>\n",
       "      <td>IIIA</td>\n",
       "      <td>Poorly differentiated</td>\n",
       "      <td>3</td>\n",
       "      <td>Regional</td>\n",
       "      <td>51</td>\n",
       "      <td>Positive</td>\n",
       "      <td>Negative</td>\n",
       "      <td>17</td>\n",
       "      <td>1</td>\n",
       "      <td>78</td>\n",
       "    </tr>\n",
       "    <tr>\n",
       "      <th>1</th>\n",
       "      <td>67</td>\n",
       "      <td>Other</td>\n",
       "      <td>Divorced</td>\n",
       "      <td>T2</td>\n",
       "      <td>N3</td>\n",
       "      <td>IIIC</td>\n",
       "      <td>Moderately differentiated</td>\n",
       "      <td>2</td>\n",
       "      <td>Distant</td>\n",
       "      <td>50</td>\n",
       "      <td>Negative</td>\n",
       "      <td>Positive</td>\n",
       "      <td>12</td>\n",
       "      <td>10</td>\n",
       "      <td>10</td>\n",
       "    </tr>\n",
       "    <tr>\n",
       "      <th>2</th>\n",
       "      <td>60</td>\n",
       "      <td>Black</td>\n",
       "      <td>Single</td>\n",
       "      <td>T4</td>\n",
       "      <td>N2</td>\n",
       "      <td>IIB</td>\n",
       "      <td>Well differentiated</td>\n",
       "      <td>1</td>\n",
       "      <td>Regional</td>\n",
       "      <td>35</td>\n",
       "      <td>Positive</td>\n",
       "      <td>Negative</td>\n",
       "      <td>37</td>\n",
       "      <td>7</td>\n",
       "      <td>71</td>\n",
       "    </tr>\n",
       "    <tr>\n",
       "      <th>3</th>\n",
       "      <td>55</td>\n",
       "      <td>White</td>\n",
       "      <td>Widowed</td>\n",
       "      <td>T1</td>\n",
       "      <td>N1</td>\n",
       "      <td>IIA</td>\n",
       "      <td>Undifferentiated</td>\n",
       "      <td>anaplastic; Grade IV</td>\n",
       "      <td>Distant</td>\n",
       "      <td>40</td>\n",
       "      <td>Negative</td>\n",
       "      <td>Positive</td>\n",
       "      <td>8</td>\n",
       "      <td>2</td>\n",
       "      <td>54</td>\n",
       "    </tr>\n",
       "    <tr>\n",
       "      <th>4</th>\n",
       "      <td>50</td>\n",
       "      <td>Black</td>\n",
       "      <td>Separated</td>\n",
       "      <td>T3</td>\n",
       "      <td>N2</td>\n",
       "      <td>IIIB</td>\n",
       "      <td>Poorly differentiated</td>\n",
       "      <td>2</td>\n",
       "      <td>Regional</td>\n",
       "      <td>18</td>\n",
       "      <td>Positive</td>\n",
       "      <td>Negative</td>\n",
       "      <td>15</td>\n",
       "      <td>12</td>\n",
       "      <td>82</td>\n",
       "    </tr>\n",
       "  </tbody>\n",
       "</table>\n",
       "</div>"
      ],
      "text/plain": [
       "   Age   Race Marital Status T Stage N Stage 6th Stage  \\\n",
       "0   47  White        Married      T3      N1      IIIA   \n",
       "1   67  Other       Divorced      T2      N3      IIIC   \n",
       "2   60  Black        Single       T4      N2       IIB   \n",
       "3   55  White        Widowed      T1      N1       IIA   \n",
       "4   50  Black      Separated      T3      N2      IIIB   \n",
       "\n",
       "               differentiate                 Grade   A Stage  Tumor Size  \\\n",
       "0      Poorly differentiated                     3  Regional          51   \n",
       "1  Moderately differentiated                     2   Distant          50   \n",
       "2        Well differentiated                     1  Regional          35   \n",
       "3           Undifferentiated  anaplastic; Grade IV   Distant          40   \n",
       "4      Poorly differentiated                     2  Regional          18   \n",
       "\n",
       "  Estrogen Status Progesterone Status  Regional Node Examined  \\\n",
       "0        Positive            Negative                      17   \n",
       "1        Negative            Positive                      12   \n",
       "2        Positive            Negative                      37   \n",
       "3        Negative            Positive                       8   \n",
       "4        Positive            Negative                      15   \n",
       "\n",
       "   Reginol Node Positive  Survival Months  \n",
       "0                      1               78  \n",
       "1                     10               10  \n",
       "2                      7               71  \n",
       "3                      2               54  \n",
       "4                     12               82  "
      ]
     },
     "execution_count": 4,
     "metadata": {},
     "output_type": "execute_result"
    }
   ],
   "source": [
    "dataInf_df = pd.DataFrame(data_Inf)\n",
    "dataInf_df"
   ]
  },
  {
   "cell_type": "code",
   "execution_count": 5,
   "metadata": {},
   "outputs": [],
   "source": [
    "y_predInf = model.predict(dataInf_df)"
   ]
  },
  {
   "cell_type": "code",
   "execution_count": 6,
   "metadata": {},
   "outputs": [
    {
     "name": "stdout",
     "output_type": "stream",
     "text": [
      "Predictions:  [0 1 1 1 0]\n"
     ]
    }
   ],
   "source": [
    "print(\"Predictions: \", y_predInf)"
   ]
  },
  {
   "cell_type": "markdown",
   "metadata": {},
   "source": [
    "**<u>Insight: </u>**\n",
    "\n",
    "Menghasilkan prediksi model dari data dictionary "
   ]
  }
 ],
 "metadata": {
  "kernelspec": {
   "display_name": "base",
   "language": "python",
   "name": "python3"
  },
  "language_info": {
   "codemirror_mode": {
    "name": "ipython",
    "version": 3
   },
   "file_extension": ".py",
   "mimetype": "text/x-python",
   "name": "python",
   "nbconvert_exporter": "python",
   "pygments_lexer": "ipython3",
   "version": "3.9.19"
  }
 },
 "nbformat": 4,
 "nbformat_minor": 2
}
